{
  "nbformat": 4,
  "nbformat_minor": 0,
  "metadata": {
    "colab": {
      "provenance": []
    },
    "kernelspec": {
      "name": "python3",
      "display_name": "Python 3"
    },
    "language_info": {
      "name": "python"
    }
  },
  "cells": [
    {
      "cell_type": "code",
      "execution_count": null,
      "metadata": {
        "id": "XMeLg6wQe0YB"
      },
      "outputs": [],
      "source": [
        "# download combo\n",
        "!wget https://onepod.inrupt.net/public/combos/combo_listamais.txt"
      ]
    },
    {
      "cell_type": "code",
      "source": [
        "# download scan\n",
        "!wget https://github.com/zoreu/iptv_scan/raw/main/scan.py"
      ],
      "metadata": {
        "id": "CVsB5BMYgh7E"
      },
      "execution_count": null,
      "outputs": []
    },
    {
      "cell_type": "code",
      "source": [
        "# rodar scan, nescessário baixar os arquivos acima\n",
        "!python scan.py -H http://148.113.190.14:80 -C combo_listamais.txt -O listas.txt -B 20"
      ],
      "metadata": {
        "id": "6iZjfJNefrQm"
      },
      "execution_count": null,
      "outputs": []
    }
  ]
}
